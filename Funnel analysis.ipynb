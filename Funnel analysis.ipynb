{
 "cells": [
  {
   "cell_type": "markdown",
   "metadata": {},
   "source": [
    "**<font color=black size=5 face=雅黑>项目：漏斗分析</font>**"
   ]
  },
  {
   "cell_type": "markdown",
   "metadata": {},
   "source": [
    "**<font color=black size=4 face=雅黑>1.项目介绍</font>**\n",
    "\n",
    "我们的目标是为电子商务网站进行漏斗分析。通常，网站有一个明确的转换路径:例如，你登录首页，然后搜索，选择一个产品并购买它。\n",
    "在这些步骤中，有些用户会离开站点。一连串向后影响的用户行为被称为“漏斗”，简单来讲，\n",
    "就是抽象网站或APP中的某个流程，观察流程中每一步的转化与流失。\n",
    "\n",
    "我们可以通过漏斗分析更好的了解用户在什么时候什么位置放弃在网站中购买商品。并且可以通过漏斗分析帮助我们对用户行为以及改进用户体验，以及发现问题节点（转化率低的点就是问题节点）。\n",
    "\n",
    "这是一个电子商务网站的数据。该网站非常简单，只有4页:\n",
    "\n",
    "1. 主页面。当你第一次来到网站时，你只能登陆首页作为第一页。\n",
    "\n",
    "2. 搜索页面。 在主页上，用户可以通过搜索登陆到搜索页面。\n",
    "\n",
    "3. 支付页面。在搜索页面中，如果用户点击一个产品，他将进入支付页面，并被要求提供支付相关信息来购买该产品。\n",
    "\n",
    "4. 确认页面。如果决定购买，用户最终会出现在确认页面上\n",
    "\n",
    "\n",
    "**<font color = black size=4 face=雅黑>2.项目要解决的问题</font>**：\n",
    "\n",
    "公司的首席执行官对公司的销售额不太满意，尤其是来自新用户的销售额。因此，她要求你调查转化率漏斗中是否存在错误，\n",
    "或者你是否可以提出一些帮助提高转换率的见解。\n",
    "\n",
    "1. 关于用户使用手机或电脑的漏斗转化率的全图\n",
    "\n",
    "2. 一些关于产品团队应该关注哪些内容以提高转化率的见解，以及你可能发现的有助于提高转化率的内容。\n",
    "\n",
    "\n",
    "\n"
   ]
  },
  {
   "cell_type": "markdown",
   "metadata": {},
   "source": [
    "**<font color=black size=4 face=雅黑>3.项目用到的五个数据集：user_table, home_page_table, search_page_table, payment_page_table 和 payment_confirmation_table</font>**\n",
    "\n",
    "user_table: 用户信息\n",
    "* user_id：用户id，唯一性，可以用于和别的table连接.\n",
    "* date：用户第一次登录网站的日期\n",
    "* device:用户设备，手机还是电脑\n",
    "* sex:男/女\n",
    "\n",
    "home_page_table: 登录主页的用户\n",
    "* user_id\n",
    "* page:home_page\n",
    "\n",
    "search_page_table:登录搜索页面的用户\n",
    "* user_id\n",
    "* page:search_page\n",
    "\n",
    "payment_page_table:登录支付页面的用户\n",
    "* user_id\n",
    "* page:payment_page\n",
    "\n",
    "payment_confirmation_table:登录确认页面的用户,换句话说就是已经购买好商品的用户。\n",
    "* user_id\n",
    "* page：payment_confirmation_page\n"
   ]
  },
  {
   "cell_type": "markdown",
   "metadata": {},
   "source": [
    "**<font color = black size=4 face=雅黑>4. 第一题解答</font>**:\n",
    "\n",
    "思路：\n",
    "1. 找到每个用户最后停留的页面\n",
    "2. 求出每个页面用户在每个页面的转化率和离开率"
   ]
  },
  {
   "cell_type": "code",
   "execution_count": 253,
   "metadata": {},
   "outputs": [],
   "source": [
    "import pandas as pd \n",
    "import numpy as np\n",
    "\n",
    "#浏览过home页面的人数是用户总人数,把user_id转化成idex是为了接下来的寻找\n",
    "user_all=pd.read_csv('home_page_table.csv',index_col=\"user_id\")\n",
    "user_search=pd.read_csv('search_page_table.csv',index_col=\"user_id\")\n",
    "user_payment=pd.read_csv('payment_page_table.csv',index_col=\"user_id\")\n",
    "user_confirmation=pd.read_csv('payment_confirmation_table.csv',index_col=\"user_id\")"
   ]
  },
  {
   "cell_type": "code",
   "execution_count": 254,
   "metadata": {},
   "outputs": [],
   "source": [
    "#通过迭代替换，找到用户浏览的最后一个页面\n",
    "user_all.loc[user_search.index,\"page\"]='search_page'\n",
    "user_all.loc[user_payment.index,\"page\"]='payment_page'\n",
    "user_all.loc[user_confirmation.index,\"page\"]='confirmation_page'"
   ]
  },
  {
   "cell_type": "code",
   "execution_count": 255,
   "metadata": {},
   "outputs": [
    {
     "data": {
      "text/html": [
       "<div>\n",
       "<style scoped>\n",
       "    .dataframe tbody tr th:only-of-type {\n",
       "        vertical-align: middle;\n",
       "    }\n",
       "\n",
       "    .dataframe tbody tr th {\n",
       "        vertical-align: top;\n",
       "    }\n",
       "\n",
       "    .dataframe thead th {\n",
       "        text-align: right;\n",
       "    }\n",
       "</style>\n",
       "<table border=\"1\" class=\"dataframe\">\n",
       "  <thead>\n",
       "    <tr style=\"text-align: right;\">\n",
       "      <th></th>\n",
       "      <th>date</th>\n",
       "      <th>device</th>\n",
       "      <th>sex</th>\n",
       "      <th>final_page</th>\n",
       "    </tr>\n",
       "    <tr>\n",
       "      <th>user_id</th>\n",
       "      <th></th>\n",
       "      <th></th>\n",
       "      <th></th>\n",
       "      <th></th>\n",
       "    </tr>\n",
       "  </thead>\n",
       "  <tbody>\n",
       "    <tr>\n",
       "      <th>450007</th>\n",
       "      <td>2015-02-28</td>\n",
       "      <td>Desktop</td>\n",
       "      <td>Female</td>\n",
       "      <td>home_page</td>\n",
       "    </tr>\n",
       "    <tr>\n",
       "      <th>756838</th>\n",
       "      <td>2015-01-13</td>\n",
       "      <td>Desktop</td>\n",
       "      <td>Male</td>\n",
       "      <td>home_page</td>\n",
       "    </tr>\n",
       "    <tr>\n",
       "      <th>568983</th>\n",
       "      <td>2015-04-09</td>\n",
       "      <td>Desktop</td>\n",
       "      <td>Male</td>\n",
       "      <td>search_page</td>\n",
       "    </tr>\n",
       "    <tr>\n",
       "      <th>190794</th>\n",
       "      <td>2015-02-18</td>\n",
       "      <td>Desktop</td>\n",
       "      <td>Female</td>\n",
       "      <td>search_page</td>\n",
       "    </tr>\n",
       "    <tr>\n",
       "      <th>537909</th>\n",
       "      <td>2015-01-15</td>\n",
       "      <td>Desktop</td>\n",
       "      <td>Male</td>\n",
       "      <td>home_page</td>\n",
       "    </tr>\n",
       "  </tbody>\n",
       "</table>\n",
       "</div>"
      ],
      "text/plain": [
       "               date   device     sex   final_page\n",
       "user_id                                          \n",
       "450007   2015-02-28  Desktop  Female    home_page\n",
       "756838   2015-01-13  Desktop    Male    home_page\n",
       "568983   2015-04-09  Desktop    Male  search_page\n",
       "190794   2015-02-18  Desktop  Female  search_page\n",
       "537909   2015-01-15  Desktop    Male    home_page"
      ]
     },
     "execution_count": 255,
     "metadata": {},
     "output_type": "execute_result"
    }
   ],
   "source": [
    "#将 user_table用户信息表➕用户访问的最后页面\n",
    "users=pd.read_csv('user_table.csv',index_col=\"user_id\")\n",
    "users['final_page']=user_all['page']\n",
    "users.head()"
   ]
  },
  {
   "cell_type": "code",
   "execution_count": 256,
   "metadata": {},
   "outputs": [],
   "source": [
    "def conversion_rates(df):\n",
    "    churn_counts = df.final_page.value_counts()\n",
    "    \n",
    "    #为了后续将转化人数和离开人数合并在一个表中叫convert_counts\n",
    "    convert_counts=churn_counts.copy()\n",
    "\n",
    "    total = df.shape[0]\n",
    "    for i in churn_counts.index:\n",
    "        \n",
    "        # n_churn 有多少个用户在这个页面上流失。\n",
    "        n_churn = churn_counts.loc[i]\n",
    "        \n",
    "        # n_convert 有多少用户没有从这个页面流失，并转化到下一个页面。\n",
    "        n_convert = total - n_churn\n",
    "        \n",
    "        #将n_convert赋值到新表\n",
    "        convert_counts[i]= n_convert\n",
    "        \n",
    "        total = n_convert\n",
    "        \n",
    "    sc_counts = pd.concat([churn_counts,convert_counts],axis=1)\n",
    "\n",
    "    return sc_counts"
   ]
  },
  {
   "cell_type": "code",
   "execution_count": 257,
   "metadata": {
    "scrolled": true
   },
   "outputs": [
    {
     "data": {
      "text/html": [
       "<div>\n",
       "<style scoped>\n",
       "    .dataframe tbody tr th:only-of-type {\n",
       "        vertical-align: middle;\n",
       "    }\n",
       "\n",
       "    .dataframe tbody tr th {\n",
       "        vertical-align: top;\n",
       "    }\n",
       "\n",
       "    .dataframe thead th {\n",
       "        text-align: right;\n",
       "    }\n",
       "</style>\n",
       "<table border=\"1\" class=\"dataframe\">\n",
       "  <thead>\n",
       "    <tr style=\"text-align: right;\">\n",
       "      <th></th>\n",
       "      <th></th>\n",
       "      <th>n_churn</th>\n",
       "      <th>n_conversion</th>\n",
       "      <th>conversion_rate</th>\n",
       "      <th>churn_rate</th>\n",
       "    </tr>\n",
       "    <tr>\n",
       "      <th>device</th>\n",
       "      <th></th>\n",
       "      <th></th>\n",
       "      <th></th>\n",
       "      <th></th>\n",
       "      <th></th>\n",
       "    </tr>\n",
       "  </thead>\n",
       "  <tbody>\n",
       "    <tr>\n",
       "      <th rowspan=\"4\" valign=\"top\">Desktop</th>\n",
       "      <th>home_page</th>\n",
       "      <td>30100</td>\n",
       "      <td>30100</td>\n",
       "      <td>0.500000</td>\n",
       "      <td>0.500000</td>\n",
       "    </tr>\n",
       "    <tr>\n",
       "      <th>search_page</th>\n",
       "      <td>27090</td>\n",
       "      <td>3010</td>\n",
       "      <td>0.100000</td>\n",
       "      <td>0.900000</td>\n",
       "    </tr>\n",
       "    <tr>\n",
       "      <th>payment_page</th>\n",
       "      <td>2860</td>\n",
       "      <td>150</td>\n",
       "      <td>0.049834</td>\n",
       "      <td>0.950166</td>\n",
       "    </tr>\n",
       "    <tr>\n",
       "      <th>confirmation_page</th>\n",
       "      <td>150</td>\n",
       "      <td>0</td>\n",
       "      <td>0.000000</td>\n",
       "      <td>1.000000</td>\n",
       "    </tr>\n",
       "    <tr>\n",
       "      <th rowspan=\"4\" valign=\"top\">Mobile</th>\n",
       "      <th>home_page</th>\n",
       "      <td>15100</td>\n",
       "      <td>15100</td>\n",
       "      <td>0.500000</td>\n",
       "      <td>0.500000</td>\n",
       "    </tr>\n",
       "    <tr>\n",
       "      <th>search_page</th>\n",
       "      <td>12080</td>\n",
       "      <td>3020</td>\n",
       "      <td>0.200000</td>\n",
       "      <td>0.800000</td>\n",
       "    </tr>\n",
       "    <tr>\n",
       "      <th>payment_page</th>\n",
       "      <td>2718</td>\n",
       "      <td>302</td>\n",
       "      <td>0.100000</td>\n",
       "      <td>0.900000</td>\n",
       "    </tr>\n",
       "    <tr>\n",
       "      <th>confirmation_page</th>\n",
       "      <td>302</td>\n",
       "      <td>0</td>\n",
       "      <td>0.000000</td>\n",
       "      <td>1.000000</td>\n",
       "    </tr>\n",
       "  </tbody>\n",
       "</table>\n",
       "</div>"
      ],
      "text/plain": [
       "                           n_churn  n_conversion  conversion_rate  churn_rate\n",
       "device                                                                       \n",
       "Desktop home_page            30100         30100         0.500000    0.500000\n",
       "        search_page          27090          3010         0.100000    0.900000\n",
       "        payment_page          2860           150         0.049834    0.950166\n",
       "        confirmation_page      150             0         0.000000    1.000000\n",
       "Mobile  home_page            15100         15100         0.500000    0.500000\n",
       "        search_page          12080          3020         0.200000    0.800000\n",
       "        payment_page          2718           302         0.100000    0.900000\n",
       "        confirmation_page      302             0         0.000000    1.000000"
      ]
     },
     "execution_count": 257,
     "metadata": {},
     "output_type": "execute_result"
    }
   ],
   "source": [
    "sc_counts=users.groupby('device').apply(conversion_rates)\n",
    "sc_counts.columns=['n_churn','n_conversion']\n",
    "sc_counts['conversion_rate']=sc_counts['n_conversion']/(sc_counts['n_conversion']+sc_counts['n_churn'])\n",
    "sc_counts['churn_rate']=sc_counts['n_churn']/(sc_counts['n_conversion']+sc_counts['n_churn'])\n",
    "sc_counts"
   ]
  },
  {
   "cell_type": "code",
   "execution_count": 258,
   "metadata": {},
   "outputs": [
    {
     "data": {
      "image/png": "[encoded data removed]",
      "text/plain": [
       "<Figure size 576x360 with 1 Axes>"
      ]
     },
     "metadata": {
      "needs_background": "light"
     },
     "output_type": "display_data"
    }
   ],
   "source": [
    "import matplotlib.pyplot as plt\n",
    "import seaborn as sns\n",
    "%matplotlib inline\n",
    "\n",
    "data=sc_counts.reset_index()\n",
    "data.rename(columns={'level_1':'Page'},inplace=True)\n",
    "\n",
    "fig, ax = plt.subplots(figsize=(8, 5))\n",
    "sns.barplot(x='Page', y='conversion_rate', data=data, ax=ax, hue='device')\n",
    "plt.show()"
   ]
  },
  {
   "cell_type": "markdown",
   "metadata": {},
   "source": [
    "从上表以及图中可以看出：\n",
    "1. 使用desktop浏览电商网站的用户数为60200，是使用Mobile浏览电商网站的用户数（30200）的两倍，但是最终购买完成的用户数却是使用Mobile购买完成的用户数一半。-- 收集所有浏览电商网站的相关变量，检查用desktop浏览电商网站和用mobile浏览电商网站有什么显著差异。\n",
    "\n",
    "\n",
    "2. 不论是从desktop又或是mobile浏览电商网站，search_page和payment_page的转化率都是20%以下。确定问题节点为search_page和payment_page页面后，就可以开始分析该页面的数据。研究单一页面的分析工具有：热图分析（查看该页面用户的互动行为）和事件分析（查看该页面的各项数据统计指标，例如停留时长，事件数）。然后再将问题进行拆分。\n",
    "\n",
    "详细介绍漏斗分析：http://www.woshipm.com/data-analysis/758063.html"
   ]
  },
  {
   "cell_type": "markdown",
   "metadata": {},
   "source": [
    "**<font color = black size=4 face=雅黑>5. 第二题解答：提高最后的购买转化率</font>**\n",
    "\n",
    "1. 特征工程\n",
    "2. 特征选择\n",
    "3. 建模\n",
    "4. 网格搜索（调参-选择最优参数）\n",
    "5. 重新建模"
   ]
  },
  {
   "cell_type": "code",
   "execution_count": 259,
   "metadata": {},
   "outputs": [
    {
     "data": {
      "text/html": [
       "<div>\n",
       "<style scoped>\n",
       "    .dataframe tbody tr th:only-of-type {\n",
       "        vertical-align: middle;\n",
       "    }\n",
       "\n",
       "    .dataframe tbody tr th {\n",
       "        vertical-align: top;\n",
       "    }\n",
       "\n",
       "    .dataframe thead th {\n",
       "        text-align: right;\n",
       "    }\n",
       "</style>\n",
       "<table border=\"1\" class=\"dataframe\">\n",
       "  <thead>\n",
       "    <tr style=\"text-align: right;\">\n",
       "      <th></th>\n",
       "      <th>date</th>\n",
       "      <th>device</th>\n",
       "      <th>sex</th>\n",
       "      <th>final_page</th>\n",
       "      <th>conversion</th>\n",
       "    </tr>\n",
       "    <tr>\n",
       "      <th>user_id</th>\n",
       "      <th></th>\n",
       "      <th></th>\n",
       "      <th></th>\n",
       "      <th></th>\n",
       "      <th></th>\n",
       "    </tr>\n",
       "  </thead>\n",
       "  <tbody>\n",
       "    <tr>\n",
       "      <th>450007</th>\n",
       "      <td>2015-02-28</td>\n",
       "      <td>Desktop</td>\n",
       "      <td>Female</td>\n",
       "      <td>home_page</td>\n",
       "      <td>0</td>\n",
       "    </tr>\n",
       "    <tr>\n",
       "      <th>756838</th>\n",
       "      <td>2015-01-13</td>\n",
       "      <td>Desktop</td>\n",
       "      <td>Male</td>\n",
       "      <td>home_page</td>\n",
       "      <td>0</td>\n",
       "    </tr>\n",
       "    <tr>\n",
       "      <th>568983</th>\n",
       "      <td>2015-04-09</td>\n",
       "      <td>Desktop</td>\n",
       "      <td>Male</td>\n",
       "      <td>search_page</td>\n",
       "      <td>0</td>\n",
       "    </tr>\n",
       "    <tr>\n",
       "      <th>190794</th>\n",
       "      <td>2015-02-18</td>\n",
       "      <td>Desktop</td>\n",
       "      <td>Female</td>\n",
       "      <td>search_page</td>\n",
       "      <td>0</td>\n",
       "    </tr>\n",
       "    <tr>\n",
       "      <th>537909</th>\n",
       "      <td>2015-01-15</td>\n",
       "      <td>Desktop</td>\n",
       "      <td>Male</td>\n",
       "      <td>home_page</td>\n",
       "      <td>0</td>\n",
       "    </tr>\n",
       "  </tbody>\n",
       "</table>\n",
       "</div>"
      ],
      "text/plain": [
       "               date   device     sex   final_page  conversion\n",
       "user_id                                                      \n",
       "450007   2015-02-28  Desktop  Female    home_page           0\n",
       "756838   2015-01-13  Desktop    Male    home_page           0\n",
       "568983   2015-04-09  Desktop    Male  search_page           0\n",
       "190794   2015-02-18  Desktop  Female  search_page           0\n",
       "537909   2015-01-15  Desktop    Male    home_page           0"
      ]
     },
     "execution_count": 259,
     "metadata": {},
     "output_type": "execute_result"
    }
   ],
   "source": [
    "#np.where是dataframe中if else的用法\n",
    "#如果final_page==confrimation_page,表示用户最终购买了商品，conversion=1\n",
    "#如果final_page!=confrimation_page,表示用户在购买过程中离开了，conversion=0\n",
    "\n",
    "users['conversion']=np.where(users['final_page']=='confirmation_page',1,0)\n",
    "users.head()"
   ]
  },
  {
   "cell_type": "code",
   "execution_count": 260,
   "metadata": {},
   "outputs": [
    {
     "data": {
      "text/html": [
       "<div>\n",
       "<style scoped>\n",
       "    .dataframe tbody tr th:only-of-type {\n",
       "        vertical-align: middle;\n",
       "    }\n",
       "\n",
       "    .dataframe tbody tr th {\n",
       "        vertical-align: top;\n",
       "    }\n",
       "\n",
       "    .dataframe thead th {\n",
       "        text-align: right;\n",
       "    }\n",
       "</style>\n",
       "<table border=\"1\" class=\"dataframe\">\n",
       "  <thead>\n",
       "    <tr style=\"text-align: right;\">\n",
       "      <th></th>\n",
       "      <th>date</th>\n",
       "      <th>device</th>\n",
       "      <th>sex</th>\n",
       "      <th>conversion</th>\n",
       "      <th>final_page_home_page</th>\n",
       "      <th>final_page_payment_page</th>\n",
       "      <th>final_page_search_page</th>\n",
       "    </tr>\n",
       "    <tr>\n",
       "      <th>user_id</th>\n",
       "      <th></th>\n",
       "      <th></th>\n",
       "      <th></th>\n",
       "      <th></th>\n",
       "      <th></th>\n",
       "      <th></th>\n",
       "      <th></th>\n",
       "    </tr>\n",
       "  </thead>\n",
       "  <tbody>\n",
       "    <tr>\n",
       "      <th>450007</th>\n",
       "      <td>2015-02-28</td>\n",
       "      <td>0</td>\n",
       "      <td>0</td>\n",
       "      <td>0</td>\n",
       "      <td>1</td>\n",
       "      <td>0</td>\n",
       "      <td>0</td>\n",
       "    </tr>\n",
       "    <tr>\n",
       "      <th>756838</th>\n",
       "      <td>2015-01-13</td>\n",
       "      <td>0</td>\n",
       "      <td>1</td>\n",
       "      <td>0</td>\n",
       "      <td>1</td>\n",
       "      <td>0</td>\n",
       "      <td>0</td>\n",
       "    </tr>\n",
       "    <tr>\n",
       "      <th>568983</th>\n",
       "      <td>2015-04-09</td>\n",
       "      <td>0</td>\n",
       "      <td>1</td>\n",
       "      <td>0</td>\n",
       "      <td>0</td>\n",
       "      <td>0</td>\n",
       "      <td>1</td>\n",
       "    </tr>\n",
       "    <tr>\n",
       "      <th>190794</th>\n",
       "      <td>2015-02-18</td>\n",
       "      <td>0</td>\n",
       "      <td>0</td>\n",
       "      <td>0</td>\n",
       "      <td>0</td>\n",
       "      <td>0</td>\n",
       "      <td>1</td>\n",
       "    </tr>\n",
       "    <tr>\n",
       "      <th>537909</th>\n",
       "      <td>2015-01-15</td>\n",
       "      <td>0</td>\n",
       "      <td>1</td>\n",
       "      <td>0</td>\n",
       "      <td>1</td>\n",
       "      <td>0</td>\n",
       "      <td>0</td>\n",
       "    </tr>\n",
       "  </tbody>\n",
       "</table>\n",
       "</div>"
      ],
      "text/plain": [
       "              date  device  sex  conversion  final_page_home_page  \\\n",
       "user_id                                                             \n",
       "450007  2015-02-28       0    0           0                     1   \n",
       "756838  2015-01-13       0    1           0                     1   \n",
       "568983  2015-04-09       0    1           0                     0   \n",
       "190794  2015-02-18       0    0           0                     0   \n",
       "537909  2015-01-15       0    1           0                     1   \n",
       "\n",
       "         final_page_payment_page  final_page_search_page  \n",
       "user_id                                                   \n",
       "450007                         0                       0  \n",
       "756838                         0                       0  \n",
       "568983                         0                       1  \n",
       "190794                         0                       1  \n",
       "537909                         0                       0  "
      ]
     },
     "execution_count": 260,
     "metadata": {},
     "output_type": "execute_result"
    }
   ],
   "source": [
    "users['date']=pd.to_datetime(users['date'])\n",
    "\n",
    "#将分类型变量转换成数值label\n",
    "from sklearn.preprocessing import LabelEncoder\n",
    "le=LabelEncoder()\n",
    "\n",
    "#device为1 => desktop,device为0 => Mobile,\n",
    "#sex为1 => male,sex为0 => female\n",
    "\n",
    "users['device']=le.fit_transform(users['device'])\n",
    "users['sex']=le.fit_transform(users['sex'])\n",
    "\n",
    "#get_dummies哑变量，drop_first默认为false,当drop_first设置为true时，意味着删除没有价值的列（重复）\n",
    "users=pd.get_dummies(users,drop_first=True)\n",
    "users.head()"
   ]
  },
  {
   "cell_type": "code",
   "execution_count": 261,
   "metadata": {},
   "outputs": [],
   "source": [
    "#添加两个新特征，一个是新用户的登录的weekday,还有一个是新用户登录的月份\n",
    "users['weekday']=users['date'].dt.dayofweek\n",
    "users['Month']=users['date'].dt.strftime('%m')\n",
    "\n",
    "#将date特征删除了\n",
    "users.drop(['date'],axis=1, inplace=True)"
   ]
  },
  {
   "cell_type": "code",
   "execution_count": 267,
   "metadata": {},
   "outputs": [
    {
     "data": {
      "text/plain": [
       "1.0"
      ]
     },
     "execution_count": 267,
     "metadata": {},
     "output_type": "execute_result"
    }
   ],
   "source": [
    "#使用决策树建模\n",
    "\n",
    "from sklearn.model_selection import train_test_split\n",
    "from datetime import datetime\n",
    "np.random.seed(4684)\n",
    "\n",
    "#split into train and test to avoid overfitting\n",
    "train, test = train_test_split(users, test_size = 0.34)\n",
    "\n",
    "from sklearn.tree import DecisionTreeClassifier\n",
    "#先随便设置一下参数。\n",
    "#类别权重class_weight：balanced 为了防止训练集某些类别的样本过多，导致训练的决策树过于偏向这些类别，使用“balanced”算法会自己计算权重，样本量少的类别所对应的样本权重会高。\n",
    "#决策树最大深度max_depth\n",
    "#叶子节点最少样本数min_samples_leaf\n",
    "\n",
    "tree = DecisionTreeClassifier(max_depth=4, min_samples_leaf = 30, class_weight=\"balanced\")\n",
    "tree.fit(train.drop('conversion', axis=1), train['conversion'])\n",
    "tree.score(test.drop('conversion', axis=1), test['conversion'])"
   ]
  },
  {
   "cell_type": "code",
   "execution_count": 268,
   "metadata": {},
   "outputs": [
    {
     "data": {
      "text/plain": [
       "<matplotlib.axes._subplots.AxesSubplot at 0x7fe0887c37c0>"
      ]
     },
     "execution_count": 268,
     "metadata": {},
     "output_type": "execute_result"
    },
    {
     "data": {
      "image/png": "[encoded data removed]",
      "text/plain": [
       "<Figure size 432x288 with 1 Axes>"
      ]
     },
     "metadata": {
      "needs_background": "light"
     },
     "output_type": "display_data"
    }
   ],
   "source": [
    "#查看特征重要性\n",
    "\n",
    "feat_importances = pd.Series(tree.feature_importances_, \n",
    "              index=train.drop('conversion', axis=1).columns)\n",
    "sns.barplot(y=feat_importances.index,x=feat_importances.values)"
   ]
  },
  {
   "cell_type": "markdown",
   "metadata": {},
   "source": [
    "最后访问的页面是什么是最重要的特征，并且我们早在题目一里就发现了，所以我们要继续探索。删除关于用户访问的最后页面这个变量，重新建模。"
   ]
  },
  {
   "cell_type": "code",
   "execution_count": 269,
   "metadata": {},
   "outputs": [],
   "source": [
    "#将用户访问的最后页面这个变量删除\n",
    "users.drop(['final_page_home_page','final_page_payment_page','final_page_search_page'],axis=1, inplace=True)"
   ]
  },
  {
   "cell_type": "code",
   "execution_count": 275,
   "metadata": {},
   "outputs": [
    {
     "data": {
      "text/plain": [
       "0.7833880990337379"
      ]
     },
     "execution_count": 275,
     "metadata": {},
     "output_type": "execute_result"
    }
   ],
   "source": [
    "#重新建模\n",
    "np.random.seed(4685)\n",
    "train, test = train_test_split(users, test_size = 0.34)\n",
    "tree = DecisionTreeClassifier(max_depth=4, min_samples_leaf = 30, class_weight=\"balanced\", min_impurity_decrease = 0.001)\n",
    "tree.fit(train.drop('conversion', axis=1), train['conversion'])\n",
    "tree.score(test.drop('conversion', axis=1), test['conversion'])"
   ]
  },
  {
   "cell_type": "code",
   "execution_count": 276,
   "metadata": {},
   "outputs": [],
   "source": [
    "#调参--网格搜索\n",
    "\n",
    "parameters={'max_depth':[*range(1,10)],\n",
    "            'min_samples_leaf':[*range(1,50,5)]}\n",
    "\n",
    "clf=DecisionTreeClassifier(random_state=25,class_weight=\"balanced\")\n",
    "\n",
    "GS=GridSearchCV(clf,parameters,cv=10)\n",
    "\n",
    "GS=GS.fit(train.drop('conversion', axis=1), train['conversion'])"
   ]
  },
  {
   "cell_type": "code",
   "execution_count": 277,
   "metadata": {},
   "outputs": [
    {
     "data": {
      "text/plain": [
       "{'max_depth': 2, 'min_samples_leaf': 1}"
      ]
     },
     "execution_count": 277,
     "metadata": {},
     "output_type": "execute_result"
    }
   ],
   "source": [
    "#得到最好的参数\n",
    "GS.best_params_"
   ]
  },
  {
   "cell_type": "code",
   "execution_count": 278,
   "metadata": {},
   "outputs": [
    {
     "data": {
      "text/plain": [
       "0.8345967400852393"
      ]
     },
     "execution_count": 278,
     "metadata": {},
     "output_type": "execute_result"
    }
   ],
   "source": [
    "#得到预测准确率\n",
    "GS.score(test.drop('conversion', axis=1), test['conversion'])"
   ]
  },
  {
   "cell_type": "code",
   "execution_count": 279,
   "metadata": {},
   "outputs": [
    {
     "data": {
      "text/plain": [
       "0.8345967400852393"
      ]
     },
     "execution_count": 279,
     "metadata": {},
     "output_type": "execute_result"
    }
   ],
   "source": [
    "#将用网格搜索得到的优化参数重新建模\n",
    "\n",
    "tree = DecisionTreeClassifier(max_depth=2,min_samples_leaf=1,class_weight=\"balanced\")\n",
    "tree.fit(train.drop('conversion', axis=1), train['conversion'])\n",
    "tree.score(test.drop('conversion', axis=1), test['conversion'])"
   ]
  },
  {
   "cell_type": "code",
   "execution_count": 290,
   "metadata": {},
   "outputs": [
    {
     "data": {
      "text/plain": [
       "'tree_conversion.dot.pdf'"
      ]
     },
     "execution_count": 290,
     "metadata": {},
     "output_type": "execute_result"
    }
   ],
   "source": [
    "#决策树\n",
    "import graphviz\n",
    "from sklearn.tree import export_graphviz\n",
    "from graphviz import Source\n",
    "\n",
    "#visualize it\n",
    "export_graphviz(tree, out_file=\"tree_conversion.dot\", feature_names=users.drop('conversion', axis=1).columns, proportion=True, rotate=True)\n",
    "with open(\"tree_conversion.dot\") as f:\n",
    "    dot_graph = f.read()\n",
    "s = Source.from_file(\"tree_conversion.dot\")\n",
    "s.view()"
   ]
  },
  {
   "cell_type": "markdown",
   "metadata": {},
   "source": [
    "新用户第一次登录月份对最后的转化率最为重要，所以我们可以：\n",
    "1. 公司内部原因分析（网站在转化率最高的那几个月是否有活动等）➕公司外部原因来分析（竞品公司是否有什么举动等）\n",
    "\n",
    "用户使用手机还是电脑对最后的转化率很重要，所以我们可以：\n",
    "1. 收集所有浏览电商网站的相关变量，检查用desktop浏览电商网站和用mobile浏览电商网站有什么显著差异。\n",
    "2. 使用mobile的用户购买可能性很高。但使用mobile访问该网站的用户却相比较少。市场营销应该想办法喜迎更多的使用mobile的用户。"
   ]
  }
 ],
 "metadata": {
  "kernelspec": {
   "display_name": "Python 3",
   "language": "python",
   "name": "python3"
  },
  "language_info": {
   "codemirror_mode": {
    "name": "ipython",
    "version": 3
   },
   "file_extension": ".py",
   "mimetype": "text/x-python",
   "name": "python",
   "nbconvert_exporter": "python",
   "pygments_lexer": "ipython3",
   "version": "3.8.3"
  }
 },
 "nbformat": 4,
 "nbformat_minor": 4
}
