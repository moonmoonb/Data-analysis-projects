{
 "cells": [
  {
   "cell_type": "markdown",
   "metadata": {},
   "source": [
    "**<font color=black size=5 face=雅黑>项目：员工留存</font>**"
   ]
  },
  {
   "cell_type": "markdown",
   "metadata": {},
   "source": [
    "**<font color=black size=4 face=雅黑>1. 项目介绍</font>**\n",
    "\n",
    "员工离职对于公司来说是一个代价高昂的问题。替换一名员工的成本通常是巨大的，考虑到面试和寻找替代者所花费的时间，安置费，签约奖金，几个月的生产力损失，以及当看到同事离开时对公司士气的影响。因此了解员工最有可能离职的原因和时间是非常有必要的，也有助于提高员工保留率或可以提前计划招聘新员工。\n",
    "\n",
    "项目的主要目标是了解员工流失的主要原因。\n",
    "\n",
    "数据集从几家公司的所有员工数据汇总得来（从2011年1月24日至2015年12月13日）。对于每个员工，我们也知道他们是否在2015年12月13日还在公司，或者他们已经辞职了。除此之外，我们还有员工的一些相关信息，比如他们任职期间的平均工资，部门和有几年的工作经验。\n",
    "\n",
    "**<font color = black size=4 face=雅黑>2. 项目要解决的问题</font>**\n",
    "\n",
    "1. 假设每个公司的员工人数从2011/01/23开始为零。请估计从2011年1月24日到2015年12月13日各公司每天的员工人数。举个例子，如果到2012/03/02时有2000人加入公司(id=1)，其中有1000人已经离职，那么公司(id=1)在2012/03/02的员工数为1000。请创建一个包含3列的表:day, employee_headcount, company_id\n",
    "\n",
    "\n",
    "\n",
    "2. 导致员工流失的主要因素是什么?\n",
    "\n",
    "\n",
    "\n",
    "3. 如果你能在这个数据集中添加一个变量来帮助解释员工流失，那会是什么呢?"
   ]
  },
  {
   "cell_type": "markdown",
   "metadata": {},
   "source": [
    "**<font color=black size=4 face=雅黑>3. 项目用到的数据集</font>**\n",
    "\n",
    "* employee_id:员工ID，员工id都是唯一的\n",
    "* company：公司ID\n",
    "* dept:员工所在部门\n",
    "* seniority:被聘用时工作经验(几年）\n",
    "* salary：员工在公司任职期间的平均年薪\n",
    "* join_date;员工入职时间，只能在2011/01/24至2015/12/13之间\n",
    "* quit_date:员工离职时间(如果截至2015年12月13日仍在职，此字段为NA)\n"
   ]
  },
  {
   "cell_type": "markdown",
   "metadata": {},
   "source": [
    "**<font color = black size=4 face=雅黑>4. 第一题解答</font>**:"
   ]
  },
  {
   "cell_type": "code",
   "execution_count": 19,
   "metadata": {},
   "outputs": [
    {
     "data": {
      "text/html": [
       "<div>\n",
       "<style scoped>\n",
       "    .dataframe tbody tr th:only-of-type {\n",
       "        vertical-align: middle;\n",
       "    }\n",
       "\n",
       "    .dataframe tbody tr th {\n",
       "        vertical-align: top;\n",
       "    }\n",
       "\n",
       "    .dataframe thead th {\n",
       "        text-align: right;\n",
       "    }\n",
       "</style>\n",
       "<table border=\"1\" class=\"dataframe\">\n",
       "  <thead>\n",
       "    <tr style=\"text-align: right;\">\n",
       "      <th></th>\n",
       "      <th>employee_id</th>\n",
       "      <th>company_id</th>\n",
       "      <th>dept</th>\n",
       "      <th>seniority</th>\n",
       "      <th>salary</th>\n",
       "      <th>join_date</th>\n",
       "      <th>quit_date</th>\n",
       "    </tr>\n",
       "  </thead>\n",
       "  <tbody>\n",
       "    <tr>\n",
       "      <th>0</th>\n",
       "      <td>13021.0</td>\n",
       "      <td>7</td>\n",
       "      <td>customer_service</td>\n",
       "      <td>28</td>\n",
       "      <td>89000.0</td>\n",
       "      <td>2014-03-24</td>\n",
       "      <td>2015-10-30</td>\n",
       "    </tr>\n",
       "    <tr>\n",
       "      <th>1</th>\n",
       "      <td>825355.0</td>\n",
       "      <td>7</td>\n",
       "      <td>marketing</td>\n",
       "      <td>20</td>\n",
       "      <td>183000.0</td>\n",
       "      <td>2013-04-29</td>\n",
       "      <td>2014-04-04</td>\n",
       "    </tr>\n",
       "    <tr>\n",
       "      <th>2</th>\n",
       "      <td>927315.0</td>\n",
       "      <td>4</td>\n",
       "      <td>marketing</td>\n",
       "      <td>14</td>\n",
       "      <td>101000.0</td>\n",
       "      <td>2014-10-13</td>\n",
       "      <td>NaT</td>\n",
       "    </tr>\n",
       "    <tr>\n",
       "      <th>3</th>\n",
       "      <td>662910.0</td>\n",
       "      <td>7</td>\n",
       "      <td>customer_service</td>\n",
       "      <td>20</td>\n",
       "      <td>115000.0</td>\n",
       "      <td>2012-05-14</td>\n",
       "      <td>2013-06-07</td>\n",
       "    </tr>\n",
       "    <tr>\n",
       "      <th>4</th>\n",
       "      <td>256971.0</td>\n",
       "      <td>2</td>\n",
       "      <td>data_science</td>\n",
       "      <td>23</td>\n",
       "      <td>276000.0</td>\n",
       "      <td>2011-10-17</td>\n",
       "      <td>2014-08-22</td>\n",
       "    </tr>\n",
       "  </tbody>\n",
       "</table>\n",
       "</div>"
      ],
      "text/plain": [
       "   employee_id  company_id              dept  seniority    salary  join_date  \\\n",
       "0      13021.0           7  customer_service         28   89000.0 2014-03-24   \n",
       "1     825355.0           7         marketing         20  183000.0 2013-04-29   \n",
       "2     927315.0           4         marketing         14  101000.0 2014-10-13   \n",
       "3     662910.0           7  customer_service         20  115000.0 2012-05-14   \n",
       "4     256971.0           2      data_science         23  276000.0 2011-10-17   \n",
       "\n",
       "   quit_date  \n",
       "0 2015-10-30  \n",
       "1 2014-04-04  \n",
       "2        NaT  \n",
       "3 2013-06-07  \n",
       "4 2014-08-22  "
      ]
     },
     "execution_count": 19,
     "metadata": {},
     "output_type": "execute_result"
    }
   ],
   "source": [
    "import pandas as pd\n",
    "import numpy as np\n",
    "\n",
    "#read from google drive\n",
    "data=pd.read_csv('employee_retention.csv')\n",
    "\n",
    "#转换成相同的date格式，便于后面join\n",
    "data['join_date']=pd.to_datetime(data['join_date'])\n",
    "data['quit_date']=pd.to_datetime(data['quit_date'])\n",
    "data.head()"
   ]
  },
  {
   "cell_type": "markdown",
   "metadata": {},
   "source": [
    "**<font color = black size=3 face=雅黑>4.1 第一步：建立一个multipleindex(公司id,日期)</font>**：为了后续储存数据"
   ]
  },
  {
   "cell_type": "code",
   "execution_count": 20,
   "metadata": {},
   "outputs": [],
   "source": [
    "#创建一个储存company_id的list\n",
    "unique_company=data['company_id'].unique()\n",
    "\n",
    "#创建一个储存日期的list\n",
    "unqiue_date=pd.date_range(start='2011/01/24', end='2015/12/13',freq='D')\n",
    "\n",
    "#创建 MultiIndex多层次索引\n",
    "data_hc=pd.MultiIndex.from_product([unqiue_date,unique_company],names=['date','company_id'])\n",
    "\n",
    "#以index=data_hc创建dataframe\n",
    "data_hc= pd.DataFrame(index=data_hc)\n",
    "\n",
    "#将index转换成column\n",
    "data_hc=data_hc.reset_index()"
   ]
  },
  {
   "cell_type": "markdown",
   "metadata": {},
   "source": [
    "**<font color = black size=3 face=雅黑>4.2 第二步：得到每个公司每天新增多少员工</font>**"
   ]
  },
  {
   "cell_type": "code",
   "execution_count": 21,
   "metadata": {},
   "outputs": [],
   "source": [
    "data_join=pd.DataFrame(data.groupby(['join_date','company_id']).size())\n",
    "\n",
    "#rename_axis(index={'join_date': 'date'})--将multipleindex中其中的一个index（join_date）改名为date，为了方便后面数据合并\n",
    "#rename(columns={0: 'join_count'})--将得到的数值column改名为join_count,方便理解\n",
    "data_join=data_join.rename_axis(index={'join_date': 'date'}).rename(columns={0: 'join_count'})\n",
    "\n",
    "#方法二：data_join=pd.DataFrame(data.groupby(['join_date','company_id']).size().reset_index(name='join_count')\n",
    "#data_join.columns.values[0]='date'或者 data_join.rename(columns={'join_date':'date'})"
   ]
  },
  {
   "cell_type": "markdown",
   "metadata": {},
   "source": [
    "**<font color = black size=3 face=雅黑>4.3 第三步：得到每个公司每天有多少员工离职</font>**"
   ]
  },
  {
   "cell_type": "code",
   "execution_count": 22,
   "metadata": {},
   "outputs": [],
   "source": [
    "data_quit=pd.DataFrame(data.groupby(['quit_date','company_id']).size())\n",
    "\n",
    "#rename_axis(index={'quit_date': 'date'})--将multipleindex中其中的一个index（quit_date）改名为date，为了方便后面数据合并\n",
    "#rename(columns={0: 'quit_count'})--将得到的数值column改名为quit_count,方便理解\n",
    "data_quit=data_quit.rename_axis(index={'quit_date': 'date'}).rename(columns={0: 'quit_count'})"
   ]
  },
  {
   "cell_type": "markdown",
   "metadata": {},
   "source": [
    "**<font color = black size=3 face=雅黑>4.4 第四步：将每天新增的员工-每天离职的员工</font>**"
   ]
  },
  {
   "cell_type": "code",
   "execution_count": 23,
   "metadata": {},
   "outputs": [],
   "source": [
    "#将data_join的数据储存到data_hc里\n",
    "data_hc=pd.merge(data_hc,data_join,on=['date','company_id'],how='left')\n",
    "\n",
    "#将data_quit的数据储存到data_hc里\n",
    "data_hc=pd.merge(data_hc,data_quit,on=['date','company_id'],how='left')\n",
    "\n",
    "#将空值NA用0填充\n",
    "data_hc.fillna('0',inplace=True)\n",
    "\n",
    "#转换join_count和quit_count的数据类型为int\n",
    "data_hc[['join_count','quit_count']]=data_hc[['join_count','quit_count']].astype('int')\n",
    "\n",
    "#将每天新增的员工join_count-每天离职的员工quit_count\n",
    "data_hc['headcounts']=data_hc['join_count']-data_hc['quit_count']\n"
   ]
  },
  {
   "cell_type": "markdown",
   "metadata": {},
   "source": [
    "**<font color = black size=3 face=雅黑>4.5 第五步：将公司把每天的headcounts累加得到最终表格</font>**"
   ]
  },
  {
   "cell_type": "code",
   "execution_count": 24,
   "metadata": {},
   "outputs": [
    {
     "data": {
      "text/html": [
       "<div>\n",
       "<style scoped>\n",
       "    .dataframe tbody tr th:only-of-type {\n",
       "        vertical-align: middle;\n",
       "    }\n",
       "\n",
       "    .dataframe tbody tr th {\n",
       "        vertical-align: top;\n",
       "    }\n",
       "\n",
       "    .dataframe thead th {\n",
       "        text-align: right;\n",
       "    }\n",
       "</style>\n",
       "<table border=\"1\" class=\"dataframe\">\n",
       "  <thead>\n",
       "    <tr style=\"text-align: right;\">\n",
       "      <th></th>\n",
       "      <th>date</th>\n",
       "      <th>company_id</th>\n",
       "      <th>count</th>\n",
       "    </tr>\n",
       "  </thead>\n",
       "  <tbody>\n",
       "    <tr>\n",
       "      <th>4</th>\n",
       "      <td>2011-01-24</td>\n",
       "      <td>1</td>\n",
       "      <td>25</td>\n",
       "    </tr>\n",
       "    <tr>\n",
       "      <th>16</th>\n",
       "      <td>2011-01-25</td>\n",
       "      <td>1</td>\n",
       "      <td>27</td>\n",
       "    </tr>\n",
       "    <tr>\n",
       "      <th>28</th>\n",
       "      <td>2011-01-26</td>\n",
       "      <td>1</td>\n",
       "      <td>29</td>\n",
       "    </tr>\n",
       "    <tr>\n",
       "      <th>40</th>\n",
       "      <td>2011-01-27</td>\n",
       "      <td>1</td>\n",
       "      <td>29</td>\n",
       "    </tr>\n",
       "    <tr>\n",
       "      <th>52</th>\n",
       "      <td>2011-01-28</td>\n",
       "      <td>1</td>\n",
       "      <td>29</td>\n",
       "    </tr>\n",
       "    <tr>\n",
       "      <th>...</th>\n",
       "      <td>...</td>\n",
       "      <td>...</td>\n",
       "      <td>...</td>\n",
       "    </tr>\n",
       "    <tr>\n",
       "      <th>21364</th>\n",
       "      <td>2015-12-09</td>\n",
       "      <td>1</td>\n",
       "      <td>3864</td>\n",
       "    </tr>\n",
       "    <tr>\n",
       "      <th>21376</th>\n",
       "      <td>2015-12-10</td>\n",
       "      <td>1</td>\n",
       "      <td>3865</td>\n",
       "    </tr>\n",
       "    <tr>\n",
       "      <th>21388</th>\n",
       "      <td>2015-12-11</td>\n",
       "      <td>1</td>\n",
       "      <td>3865</td>\n",
       "    </tr>\n",
       "    <tr>\n",
       "      <th>21400</th>\n",
       "      <td>2015-12-12</td>\n",
       "      <td>1</td>\n",
       "      <td>3865</td>\n",
       "    </tr>\n",
       "    <tr>\n",
       "      <th>21412</th>\n",
       "      <td>2015-12-13</td>\n",
       "      <td>1</td>\n",
       "      <td>3865</td>\n",
       "    </tr>\n",
       "  </tbody>\n",
       "</table>\n",
       "<p>1785 rows × 3 columns</p>\n",
       "</div>"
      ],
      "text/plain": [
       "            date  company_id  count\n",
       "4     2011-01-24           1     25\n",
       "16    2011-01-25           1     27\n",
       "28    2011-01-26           1     29\n",
       "40    2011-01-27           1     29\n",
       "52    2011-01-28           1     29\n",
       "...          ...         ...    ...\n",
       "21364 2015-12-09           1   3864\n",
       "21376 2015-12-10           1   3865\n",
       "21388 2015-12-11           1   3865\n",
       "21400 2015-12-12           1   3865\n",
       "21412 2015-12-13           1   3865\n",
       "\n",
       "[1785 rows x 3 columns]"
      ]
     },
     "execution_count": 24,
     "metadata": {},
     "output_type": "execute_result"
    }
   ],
   "source": [
    "#按照公司把每天的headcounts累加起来\n",
    "data_hc['count'] = data_hc.groupby(['company_id'])['headcounts'].apply(lambda x: x.cumsum())\n",
    "\n",
    "#创建一个包含3列的表:day, employee_headcount, company_id\n",
    "data_hc_table=data_hc[['date','company_id','count']]\n",
    "\n",
    "#检查一下company_id=1\n",
    "data_hc_table[data_hc_table['company_id']==1]"
   ]
  },
  {
   "cell_type": "markdown",
   "metadata": {},
   "source": [
    "**<font color = black size=4 face=雅黑>5. 第二题解答：导致员工流失的主要因素是什么</font>**"
   ]
  },
  {
   "cell_type": "markdown",
   "metadata": {},
   "source": [
    "**<font color = black size=3 face=雅黑>5.1 查看离职者从入职到离职的工作时长</font>**"
   ]
  },
  {
   "cell_type": "code",
   "execution_count": 25,
   "metadata": {},
   "outputs": [
    {
     "data": {
      "text/html": [
       "<div>\n",
       "<style scoped>\n",
       "    .dataframe tbody tr th:only-of-type {\n",
       "        vertical-align: middle;\n",
       "    }\n",
       "\n",
       "    .dataframe tbody tr th {\n",
       "        vertical-align: top;\n",
       "    }\n",
       "\n",
       "    .dataframe thead th {\n",
       "        text-align: right;\n",
       "    }\n",
       "</style>\n",
       "<table border=\"1\" class=\"dataframe\">\n",
       "  <thead>\n",
       "    <tr style=\"text-align: right;\">\n",
       "      <th></th>\n",
       "      <th>employee_id</th>\n",
       "      <th>company_id</th>\n",
       "      <th>dept</th>\n",
       "      <th>seniority</th>\n",
       "      <th>salary</th>\n",
       "      <th>join_date</th>\n",
       "      <th>quit_date</th>\n",
       "    </tr>\n",
       "  </thead>\n",
       "  <tbody>\n",
       "    <tr>\n",
       "      <th>0</th>\n",
       "      <td>13021.0</td>\n",
       "      <td>7</td>\n",
       "      <td>customer_service</td>\n",
       "      <td>28</td>\n",
       "      <td>89000.0</td>\n",
       "      <td>2014-03-24</td>\n",
       "      <td>2015-10-30</td>\n",
       "    </tr>\n",
       "    <tr>\n",
       "      <th>1</th>\n",
       "      <td>825355.0</td>\n",
       "      <td>7</td>\n",
       "      <td>marketing</td>\n",
       "      <td>20</td>\n",
       "      <td>183000.0</td>\n",
       "      <td>2013-04-29</td>\n",
       "      <td>2014-04-04</td>\n",
       "    </tr>\n",
       "    <tr>\n",
       "      <th>2</th>\n",
       "      <td>927315.0</td>\n",
       "      <td>4</td>\n",
       "      <td>marketing</td>\n",
       "      <td>14</td>\n",
       "      <td>101000.0</td>\n",
       "      <td>2014-10-13</td>\n",
       "      <td>NaT</td>\n",
       "    </tr>\n",
       "    <tr>\n",
       "      <th>3</th>\n",
       "      <td>662910.0</td>\n",
       "      <td>7</td>\n",
       "      <td>customer_service</td>\n",
       "      <td>20</td>\n",
       "      <td>115000.0</td>\n",
       "      <td>2012-05-14</td>\n",
       "      <td>2013-06-07</td>\n",
       "    </tr>\n",
       "    <tr>\n",
       "      <th>4</th>\n",
       "      <td>256971.0</td>\n",
       "      <td>2</td>\n",
       "      <td>data_science</td>\n",
       "      <td>23</td>\n",
       "      <td>276000.0</td>\n",
       "      <td>2011-10-17</td>\n",
       "      <td>2014-08-22</td>\n",
       "    </tr>\n",
       "  </tbody>\n",
       "</table>\n",
       "</div>"
      ],
      "text/plain": [
       "   employee_id  company_id              dept  seniority    salary  join_date  \\\n",
       "0      13021.0           7  customer_service         28   89000.0 2014-03-24   \n",
       "1     825355.0           7         marketing         20  183000.0 2013-04-29   \n",
       "2     927315.0           4         marketing         14  101000.0 2014-10-13   \n",
       "3     662910.0           7  customer_service         20  115000.0 2012-05-14   \n",
       "4     256971.0           2      data_science         23  276000.0 2011-10-17   \n",
       "\n",
       "   quit_date  \n",
       "0 2015-10-30  \n",
       "1 2014-04-04  \n",
       "2        NaT  \n",
       "3 2013-06-07  \n",
       "4 2014-08-22  "
      ]
     },
     "execution_count": 25,
     "metadata": {},
     "output_type": "execute_result"
    }
   ],
   "source": [
    "data.head()"
   ]
  },
  {
   "cell_type": "code",
   "execution_count": 27,
   "metadata": {},
   "outputs": [
    {
     "data": {
      "image/png": "[encoded data removed]",
      "text/plain": [
       "<Figure size 720x288 with 1 Axes>"
      ]
     },
     "metadata": {
      "needs_background": "light"
     },
     "output_type": "display_data"
    }
   ],
   "source": [
    "#查看员工哪个月离职人数最多\n",
    "import seaborn as sns\n",
    "month = np.array(list(map(lambda x: x.month, data['quit_date'] )))\n",
    "\n",
    "fig, ax = plt.subplots(figsize=(10, 4))\n",
    "sns.countplot(month, ax=ax)\n",
    "ax.set_title('Count of Quit months', fontsize=16)\n",
    "ax.set_xlabel('Quit months', fontsize=12)\n",
    "ax.set_ylabel('Frequency', fontsize=12)\n",
    "plt.show()"
   ]
  },
  {
   "cell_type": "code",
   "execution_count": 28,
   "metadata": {},
   "outputs": [
    {
     "data": {
      "image/png": "[encoded data removed]",
      "text/plain": [
       "<Figure size 720x288 with 1 Axes>"
      ]
     },
     "metadata": {
      "needs_background": "light"
     },
     "output_type": "display_data"
    }
   ],
   "source": [
    "#查看员工哪周离职人数最多\n",
    "\n",
    "weeks = np.array(list(map(lambda x: x.week, data['quit_date'] )))\n",
    "\n",
    "hist_kws={'histtype': 'bar', 'edgecolor':'black', 'alpha': 0.2}\n",
    "fig, ax = plt.subplots(figsize=(10, 4))\n",
    "sns.distplot(weeks , bins=50, kde=False, ax=ax, hist_kws=hist_kws)\n",
    "ax.set_title('Histogram of Quit Weeks', fontsize=16)\n",
    "ax.set_xlabel('Quit Weeks', fontsize=12)\n",
    "ax.set_ylabel('Frequency', fontsize=12)\n",
    "plt.show()"
   ]
  },
  {
   "cell_type": "code",
   "execution_count": 29,
   "metadata": {},
   "outputs": [],
   "source": [
    "#创建一个新的feature：quit_length工作多少时间离职\n",
    "\n",
    "data['employment_length'] = (data['quit_date'] - data['join_date']).astype('timedelta64[D]')"
   ]
  },
  {
   "cell_type": "code",
   "execution_count": 30,
   "metadata": {},
   "outputs": [
    {
     "data": {
      "image/png": "[encoded data removed]",
      "text/plain": [
       "<Figure size 432x288 with 1 Axes>"
      ]
     },
     "metadata": {
      "needs_background": "light"
     },
     "output_type": "display_data"
    }
   ],
   "source": [
    "import matplotlib.pyplot as plt\n",
    "\n",
    "#去掉没有离职的人画图\n",
    "plt.hist(data['employment_length'].dropna(),bins=50) #bins参数的含义是所画出的直方图的“柱”的个数；每个“柱”的值为其跨越的值的个数和\n",
    "plt.show()"
   ]
  },
  {
   "cell_type": "markdown",
   "metadata": {},
   "source": [
    "通过查看离职者从入职到离职的工作时长，可以看出很大一部分离职者都是在工作一年左右离职，为了找到大部分员工离职的主要原因，将员工分为工作13个月离职以及其他"
   ]
  },
  {
   "cell_type": "markdown",
   "metadata": {},
   "source": [
    "**<font color = black size=3 face=雅黑>5.2 将员工分为工作13个月离职以及其他 </font>**"
   ]
  },
  {
   "cell_type": "code",
   "execution_count": 31,
   "metadata": {},
   "outputs": [],
   "source": [
    "#将入职时间在2014-11-12之后的员工去除\n",
    "from datetime import timedelta\n",
    "\n",
    "data=data[data['join_date']<pd.to_datetime(\"2015/12/13\") - timedelta(days=(365+31))] \n",
    "\n",
    "#员工工作时长<396标记为1（是需要分析的大部分离职者）\n",
    "#员工工作时长>396或者未离职的标记为0\n",
    "data['early_quitter'] = np.where((data['employment_length']>396) | (np.isnan(data['employment_length'])), 0, 1)"
   ]
  },
  {
   "cell_type": "markdown",
   "metadata": {},
   "source": [
    "**<font color = black size=3 face=雅黑>5.3 建模 </font>**\n",
    "\n",
    "不需要去预测员工什么时候离开而是要找出员工离职的主要原因，使用随机森林和决策树模型（因为有好的解释行）"
   ]
  },
  {
   "cell_type": "code",
   "execution_count": 32,
   "metadata": {},
   "outputs": [
    {
     "data": {
      "text/html": [
       "<div>\n",
       "<style scoped>\n",
       "    .dataframe tbody tr th:only-of-type {\n",
       "        vertical-align: middle;\n",
       "    }\n",
       "\n",
       "    .dataframe tbody tr th {\n",
       "        vertical-align: top;\n",
       "    }\n",
       "\n",
       "    .dataframe thead th {\n",
       "        text-align: right;\n",
       "    }\n",
       "</style>\n",
       "<table border=\"1\" class=\"dataframe\">\n",
       "  <thead>\n",
       "    <tr style=\"text-align: right;\">\n",
       "      <th></th>\n",
       "      <th>company_id</th>\n",
       "      <th>seniority</th>\n",
       "      <th>salary</th>\n",
       "      <th>early_quitter</th>\n",
       "      <th>dept_customer_service</th>\n",
       "      <th>dept_data_science</th>\n",
       "      <th>dept_design</th>\n",
       "      <th>dept_engineer</th>\n",
       "      <th>dept_marketing</th>\n",
       "      <th>dept_sales</th>\n",
       "    </tr>\n",
       "  </thead>\n",
       "  <tbody>\n",
       "    <tr>\n",
       "      <th>0</th>\n",
       "      <td>7</td>\n",
       "      <td>28</td>\n",
       "      <td>89000.0</td>\n",
       "      <td>0</td>\n",
       "      <td>1</td>\n",
       "      <td>0</td>\n",
       "      <td>0</td>\n",
       "      <td>0</td>\n",
       "      <td>0</td>\n",
       "      <td>0</td>\n",
       "    </tr>\n",
       "    <tr>\n",
       "      <th>1</th>\n",
       "      <td>7</td>\n",
       "      <td>20</td>\n",
       "      <td>183000.0</td>\n",
       "      <td>1</td>\n",
       "      <td>0</td>\n",
       "      <td>0</td>\n",
       "      <td>0</td>\n",
       "      <td>0</td>\n",
       "      <td>1</td>\n",
       "      <td>0</td>\n",
       "    </tr>\n",
       "    <tr>\n",
       "      <th>2</th>\n",
       "      <td>4</td>\n",
       "      <td>14</td>\n",
       "      <td>101000.0</td>\n",
       "      <td>0</td>\n",
       "      <td>0</td>\n",
       "      <td>0</td>\n",
       "      <td>0</td>\n",
       "      <td>0</td>\n",
       "      <td>1</td>\n",
       "      <td>0</td>\n",
       "    </tr>\n",
       "    <tr>\n",
       "      <th>3</th>\n",
       "      <td>7</td>\n",
       "      <td>20</td>\n",
       "      <td>115000.0</td>\n",
       "      <td>1</td>\n",
       "      <td>1</td>\n",
       "      <td>0</td>\n",
       "      <td>0</td>\n",
       "      <td>0</td>\n",
       "      <td>0</td>\n",
       "      <td>0</td>\n",
       "    </tr>\n",
       "    <tr>\n",
       "      <th>4</th>\n",
       "      <td>2</td>\n",
       "      <td>23</td>\n",
       "      <td>276000.0</td>\n",
       "      <td>0</td>\n",
       "      <td>0</td>\n",
       "      <td>1</td>\n",
       "      <td>0</td>\n",
       "      <td>0</td>\n",
       "      <td>0</td>\n",
       "      <td>0</td>\n",
       "    </tr>\n",
       "  </tbody>\n",
       "</table>\n",
       "</div>"
      ],
      "text/plain": [
       "   company_id  seniority    salary  early_quitter  dept_customer_service  \\\n",
       "0           7         28   89000.0              0                      1   \n",
       "1           7         20  183000.0              1                      0   \n",
       "2           4         14  101000.0              0                      0   \n",
       "3           7         20  115000.0              1                      1   \n",
       "4           2         23  276000.0              0                      0   \n",
       "\n",
       "   dept_data_science  dept_design  dept_engineer  dept_marketing  dept_sales  \n",
       "0                  0            0              0               0           0  \n",
       "1                  0            0              0               1           0  \n",
       "2                  0            0              0               1           0  \n",
       "3                  0            0              0               0           0  \n",
       "4                  1            0              0               0           0  "
      ]
     },
     "execution_count": 32,
     "metadata": {},
     "output_type": "execute_result"
    }
   ],
   "source": [
    "#get_dummies函数将数据转换成one-hot编码 默认drop_first=False,当drop_first=True时删除冗杂的列\n",
    "\n",
    "data_dummy = pd.get_dummies(data[['company_id', 'dept', 'seniority', 'salary', 'early_quitter']])\n",
    "data_dummy.head()"
   ]
  },
  {
   "cell_type": "code",
   "execution_count": 33,
   "metadata": {},
   "outputs": [],
   "source": [
    "#将数据集分为有label的和无lable的\n",
    "\n",
    "X=data_dummy.iloc[:,data_dummy.columns !='early_quitter']\n",
    "Y=data_dummy.iloc[:,data_dummy.columns =='early_quitter']"
   ]
  },
  {
   "cell_type": "code",
   "execution_count": 36,
   "metadata": {
    "scrolled": true
   },
   "outputs": [
    {
     "data": {
      "text/plain": [
       "<matplotlib.axes._subplots.AxesSubplot at 0x7fd55acf3520>"
      ]
     },
     "execution_count": 36,
     "metadata": {},
     "output_type": "execute_result"
    },
    {
     "data": {
      "image/png": "[encoded data removed]",
      "text/plain": [
       "<Figure size 432x288 with 1 Axes>"
      ]
     },
     "metadata": {
      "needs_background": "light"
     },
     "output_type": "display_data"
    }
   ],
   "source": [
    "#随机森林\n",
    "import warnings\n",
    "warnings.filterwarnings(\"ignore\")\n",
    "from sklearn.ensemble import RandomForestClassifier\n",
    "\n",
    "rf0 = RandomForestClassifier(oob_score=True, random_state=10)\n",
    "rf0.fit(X,Y)\n",
    "\n",
    "#特征重要性\n",
    "feature_importances = pd.Series(rf0.feature_importances_, \n",
    "              index=X.columns)\n",
    "sns.barplot(y=feature_importances.index,x=feature_importances.values)"
   ]
  },
  {
   "cell_type": "code",
   "execution_count": 37,
   "metadata": {},
   "outputs": [
    {
     "data": {
      "text/plain": [
       "'tree_employee.dot.pdf'"
      ]
     },
     "execution_count": 37,
     "metadata": {},
     "output_type": "execute_result"
    }
   ],
   "source": [
    "#决策树\n",
    "import graphviz\n",
    "from sklearn.tree import DecisionTreeClassifier\n",
    "from sklearn.tree import export_graphviz\n",
    "from graphviz import Source\n",
    "  \n",
    "tree = DecisionTreeClassifier(max_depth=4, min_samples_leaf = 30, class_weight=\"balanced\", min_impurity_decrease = 0.001)\n",
    "tree.fit(data_dummy.drop('early_quitter', axis=1), data['early_quitter'])\n",
    "  \n",
    "#visualize it\n",
    "export_graphviz(tree, out_file=\"tree_employee.dot\", feature_names=data_dummy.drop('early_quitter', axis=1).columns, proportion=True, rotate=True)\n",
    "with open(\"tree_employee.dot\") as f:\n",
    "    dot_graph = f.read()\n",
    "s = Source.from_file(\"tree_employee.dot\")\n",
    "s.view()"
   ]
  },
  {
   "cell_type": "markdown",
   "metadata": {},
   "source": [
    "从随机森林还有决策树的结果可以看出，工资是最重要的。毕竟，它可能也包含了其他变量的信息。也就是说，资历、部门和公司会影响工资。所以工资包含了所有可用的信息。\n",
    "\n",
    "并且工资在224500到62500之间，员工成为早期辞职者的可能性更高。赚很多钱却赚得很少的人都不太可能放弃，赚很多可以理解，赚很少可能是因为能力本身不足所以也找不到更高工资的工作。"
   ]
  },
  {
   "cell_type": "markdown",
   "metadata": {},
   "source": [
    "**<font color = black size=4 face=雅黑>5. 第三题解答：如果你能在这个数据集中添加一个变量来帮助解释员工流失，那会是什么呢?</font>**\n",
    "\n",
    "因为薪水很重要，我希望添加一个变量是：辞职的员工在下一份工作的薪水或者员工任期期间内获得的晋升或加薪"
   ]
  }
 ],
 "metadata": {
  "kernelspec": {
   "display_name": "Python 3",
   "language": "python",
   "name": "python3"
  },
  "language_info": {
   "codemirror_mode": {
    "name": "ipython",
    "version": 3
   },
   "file_extension": ".py",
   "mimetype": "text/x-python",
   "name": "python",
   "nbconvert_exporter": "python",
   "pygments_lexer": "ipython3",
   "version": "3.8.3"
  }
 },
 "nbformat": 4,
 "nbformat_minor": 4
}
